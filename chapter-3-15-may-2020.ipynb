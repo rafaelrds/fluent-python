{
 "cells": [
  {
   "cell_type": "markdown",
   "metadata": {},
   "source": [
    "### The `__missing__` Method\n",
    "\n",
    "A better way to create a user-defined mapping type is to subclass `collections.UserDict`"
   ]
  },
  {
   "cell_type": "code",
   "execution_count": 13,
   "metadata": {},
   "outputs": [],
   "source": [
    "class StrKeyDict0(dict):\n",
    "    def __missing__(self, key): \n",
    "        if isinstance(key, str):\n",
    "            raise KeyError(key) \n",
    "        return self[str(key)]\n",
    "    \n",
    "    def get(self, key, default=None): \n",
    "        try:\n",
    "            return self[key] \n",
    "        except KeyError:\n",
    "            return default\n",
    "        \n",
    "    def __contains__(self, key):\n",
    "        return key in self.keys() or str(key) in self.keys()"
   ]
  },
  {
   "cell_type": "code",
   "execution_count": 14,
   "metadata": {},
   "outputs": [],
   "source": [
    "d = StrKeyDict0([('2', 'two'), ('4', 'four')])"
   ]
  },
  {
   "cell_type": "code",
   "execution_count": 15,
   "metadata": {},
   "outputs": [
    {
     "data": {
      "text/plain": [
       "'two'"
      ]
     },
     "execution_count": 15,
     "metadata": {},
     "output_type": "execute_result"
    }
   ],
   "source": [
    "d['2']"
   ]
  },
  {
   "cell_type": "code",
   "execution_count": 17,
   "metadata": {},
   "outputs": [
    {
     "data": {
      "text/plain": [
       "'t'"
      ]
     },
     "execution_count": 17,
     "metadata": {},
     "output_type": "execute_result"
    }
   ],
   "source": [
    "d.get('3', \"t\")"
   ]
  },
  {
   "cell_type": "markdown",
   "metadata": {},
   "source": [
    "## Variations of dict"
   ]
  },
  {
   "cell_type": "markdown",
   "metadata": {},
   "source": [
    "### collections.OrderedDict\n",
    "\n",
    "Maintains **INSERTION** order (by using a linked list) - so it has a cost \n",
    "\n",
    "**Since Python 3.7, all dictionaries are guaranteed to be ordered. The Python contributors determined that switching to making dict ordered would not have a negative performance impact.**\n",
    "\n",
    "https://stackoverflow.com/questions/50872498/will-ordereddict-become-redundant-in-python-3-7"
   ]
  },
  {
   "cell_type": "code",
   "execution_count": 37,
   "metadata": {},
   "outputs": [
    {
     "name": "stdout",
     "output_type": "stream",
     "text": [
      "OrderedDict()\n",
      "OrderedDict([('kiwi', 4), ('apple', 5), ('cat', 3)])\n",
      "OrderedDict([('apple', 5), ('cat', 3), ('kiwi', 4)])\n"
     ]
    }
   ],
   "source": [
    "from collections import OrderedDict\n",
    "\n",
    "# creating a simple dict\n",
    "my_dict = {'kiwi': 4, 'apple': 5, 'cat': 3}\n",
    "\n",
    "# creating empty ordered dict\n",
    "ordered_dict = OrderedDict()\n",
    "print(ordered_dict)\n",
    "\n",
    "# creating ordered dict from dict\n",
    "ordered_dict = OrderedDict(my_dict)\n",
    "print(ordered_dict)\n",
    "\n",
    "# move to end\n",
    "ordered_dict.move_to_end('kiwi')\n",
    "print(ordered_dict)"
   ]
  },
  {
   "cell_type": "markdown",
   "metadata": {},
   "source": [
    "### collections.ChainMap\n",
    "\n",
    "Holds a list of mappings/dictionaries that can be searched as one. "
   ]
  },
  {
   "cell_type": "code",
   "execution_count": 19,
   "metadata": {},
   "outputs": [],
   "source": [
    "import collections \n",
    "  \n",
    "# initializing dictionaries \n",
    "dic1 = { 'a' : 1, 'b' : 2 } \n",
    "dic2 = { 'b' : 3, 'c' : 4 } \n",
    "dic3 = { 'e' : 3, 'b' : 4 } "
   ]
  },
  {
   "cell_type": "code",
   "execution_count": 20,
   "metadata": {},
   "outputs": [],
   "source": [
    "dic4 = {**dic1, **dic2, **dic3}"
   ]
  },
  {
   "cell_type": "code",
   "execution_count": 21,
   "metadata": {},
   "outputs": [
    {
     "data": {
      "text/plain": [
       "{'a': 1, 'b': 4, 'c': 4, 'e': 3}"
      ]
     },
     "execution_count": 21,
     "metadata": {},
     "output_type": "execute_result"
    }
   ],
   "source": [
    "dic4"
   ]
  },
  {
   "cell_type": "code",
   "execution_count": 22,
   "metadata": {},
   "outputs": [],
   "source": [
    "# initializing ChainMap \n",
    "chain = collections.ChainMap(dic1, dic2) "
   ]
  },
  {
   "cell_type": "code",
   "execution_count": 23,
   "metadata": {},
   "outputs": [
    {
     "name": "stdout",
     "output_type": "stream",
     "text": [
      "All the ChainMap contents are : \n",
      "[{'a': 1, 'b': 2}, {'b': 3, 'c': 4}]\n",
      "\n",
      "All keys of ChainMap are : \n",
      "['b', 'c', 'a']\n",
      "\n",
      "All values of ChainMap are : \n",
      "[2, 4, 1]\n"
     ]
    }
   ],
   "source": [
    "# printing chainMap using maps \n",
    "print (\"All the ChainMap contents are : \") \n",
    "print (chain.maps) \n",
    "\n",
    "# printing keys using keys() \n",
    "print (\"\\nAll keys of ChainMap are : \") \n",
    "print (list(chain.keys())) \n",
    "  \n",
    "# printing keys using keys() \n",
    "print (\"\\nAll values of ChainMap are : \") \n",
    "print (list(chain.values())) "
   ]
  },
  {
   "cell_type": "markdown",
   "metadata": {},
   "source": [
    "Notice the key named “b” exists in both dictionaries, but only first dictionary key is taken as key value of “b”. Ordering is done as the dictionaries are passed in function."
   ]
  },
  {
   "cell_type": "markdown",
   "metadata": {},
   "source": [
    "### collections.Counter\n",
    "\n",
    "A mapping that holds an integer count for each key. Updating an existing key adds to its count.\n",
    "\n",
    "- elements() : This method will return you all the elements with count >0. Elements with 0 or -1 count will not be returned.\n",
    "- most_common(value): This method will return you the most common elements from Counter list.\n",
    "- subtract(): This method is used to deduct the elements from another Counter.\n",
    "- update(): This method is used to update the elements from another Counter."
   ]
  },
  {
   "cell_type": "markdown",
   "metadata": {},
   "source": [
    "#### Counter with string\n"
   ]
  },
  {
   "cell_type": "code",
   "execution_count": 24,
   "metadata": {},
   "outputs": [],
   "source": [
    "ct = collections.Counter('abracadabra')"
   ]
  },
  {
   "cell_type": "code",
   "execution_count": 25,
   "metadata": {},
   "outputs": [
    {
     "data": {
      "text/plain": [
       "Counter({'a': 5, 'b': 2, 'r': 2, 'c': 1, 'd': 1})"
      ]
     },
     "execution_count": 25,
     "metadata": {},
     "output_type": "execute_result"
    }
   ],
   "source": [
    "ct"
   ]
  },
  {
   "cell_type": "code",
   "execution_count": 49,
   "metadata": {},
   "outputs": [],
   "source": [
    "ct.update('aaaaazzz')"
   ]
  },
  {
   "cell_type": "code",
   "execution_count": 26,
   "metadata": {},
   "outputs": [
    {
     "data": {
      "text/plain": [
       "Counter({'a': 5, 'b': 2, 'r': 2, 'c': 1, 'd': 1})"
      ]
     },
     "execution_count": 26,
     "metadata": {},
     "output_type": "execute_result"
    }
   ],
   "source": [
    "ct"
   ]
  },
  {
   "cell_type": "code",
   "execution_count": 29,
   "metadata": {},
   "outputs": [
    {
     "data": {
      "text/plain": [
       "[('a', 5), ('b', 2), ('r', 2)]"
      ]
     },
     "execution_count": 29,
     "metadata": {},
     "output_type": "execute_result"
    }
   ],
   "source": [
    "ct.most_common(3)"
   ]
  },
  {
   "cell_type": "markdown",
   "metadata": {},
   "source": [
    "#### Counter with List"
   ]
  },
  {
   "cell_type": "code",
   "execution_count": 35,
   "metadata": {},
   "outputs": [],
   "source": [
    "l = collections.Counter(i%2==0 for i in range(10))"
   ]
  },
  {
   "cell_type": "code",
   "execution_count": 36,
   "metadata": {},
   "outputs": [
    {
     "data": {
      "text/plain": [
       "Counter({True: 5, False: 5})"
      ]
     },
     "execution_count": 36,
     "metadata": {},
     "output_type": "execute_result"
    }
   ],
   "source": [
    "l"
   ]
  },
  {
   "cell_type": "code",
   "execution_count": 30,
   "metadata": {},
   "outputs": [],
   "source": [
    "my_list = ['success','success','fail']\n",
    "ct = collections.Counter(my_list)"
   ]
  },
  {
   "cell_type": "code",
   "execution_count": 31,
   "metadata": {},
   "outputs": [
    {
     "data": {
      "text/plain": [
       "Counter({'success': 2, 'fail': 1})"
      ]
     },
     "execution_count": 31,
     "metadata": {},
     "output_type": "execute_result"
    }
   ],
   "source": [
    "ct"
   ]
  },
  {
   "cell_type": "markdown",
   "metadata": {},
   "source": [
    "### collections.UserDict\n",
    "\n",
    "A pure Python implementation of a mapping that works like a standard dict."
   ]
  },
  {
   "cell_type": "markdown",
   "metadata": {},
   "source": [
    "## Subclassing UserDict"
   ]
  },
  {
   "cell_type": "code",
   "execution_count": null,
   "metadata": {},
   "outputs": [],
   "source": []
  },
  {
   "cell_type": "code",
   "execution_count": null,
   "metadata": {},
   "outputs": [],
   "source": []
  }
 ],
 "metadata": {
  "kernelspec": {
   "display_name": "Python 3",
   "language": "python",
   "name": "python3"
  },
  "language_info": {
   "codemirror_mode": {
    "name": "ipython",
    "version": 3
   },
   "file_extension": ".py",
   "mimetype": "text/x-python",
   "name": "python",
   "nbconvert_exporter": "python",
   "pygments_lexer": "ipython3",
   "version": "3.7.5"
  }
 },
 "nbformat": 4,
 "nbformat_minor": 2
}
